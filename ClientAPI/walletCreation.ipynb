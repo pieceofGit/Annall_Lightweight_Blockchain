{
 "cells": [
  {
   "cell_type": "code",
   "execution_count": 17,
   "metadata": {},
   "outputs": [],
   "source": [
    "from Crypto.PublicKey import RSA\n",
    "\n",
    "def getKeys():\n",
    "    ''' Returns a dictionary of a public and private key'''\n",
    "    keyDict = {}\n",
    "    key = RSA.generate(2048)\n",
    "    privateKey = key.export_key()\n",
    "    file_out = open(\"private.pem\", \"wb\")\n",
    "    file_out.write(privateKey)\n",
    "    file_out.close()\n",
    "    keyDict['privateKey'] = privateKey\n",
    "    publicKey = key.publickey().export_key()\n",
    "    file_out = open(\"receiver.pem\", \"wb\")\n",
    "    file_out.write(publicKey)\n",
    "    file_out.close()\n",
    "    keyDict['publicKey'] = publicKey\n",
    "    return keyDict "
   ]
  },
  {
   "cell_type": "code",
   "execution_count": 32,
   "metadata": {},
   "outputs": [],
   "source": [
    "from Crypto.Signature import pkcs1_15\n",
    "from Crypto.Hash import SHA256\n",
    "def signTransaction(privateKey, message = 'no message'):\n",
    "    ''' Takes in a private key and signs a transaction'''\n",
    "    print(\"Here I will sign a transaction\")\n",
    "    # key = RSA.import_key(open('private.pem').read())\n",
    "    key = RSA.import_key(privateKey)\n",
    "    message = b'message'\n",
    "\n",
    "    hash = SHA256.new(message)\n",
    "    signature = pkcs1_15.new(key).sign(hash)\n",
    "    return hash, signature"
   ]
  },
  {
   "cell_type": "code",
   "execution_count": 45,
   "metadata": {},
   "outputs": [],
   "source": [
    "def verifySignature(pubKey, hash, signature):\n",
    "    ''' Verifies a signed message with the public key'''\n",
    "    pkcsObj = pkcs1_15.new(pubKey)\n",
    "    return pkcsObj.verify(hash, signature)\n",
    "    "
   ]
  },
  {
   "cell_type": "code",
   "execution_count": 46,
   "metadata": {},
   "outputs": [
    {
     "name": "stdout",
     "output_type": "stream",
     "text": [
      "Here I will sign a transaction\n",
      "The hash  ab530a13e45914982b79f9b7e3fba994cfd1f3fb22f71cea1afbf02b460c6d1d\n",
      "The signature is not valid.\n"
     ]
    }
   ],
   "source": [
    "# A dictionary of public and private keys\n",
    "userKeys = getKeys()\n",
    "message = 'My message to you'\n",
    "hash, signature = signTransaction(userKeys['privateKey'])\n",
    "pubKey = RSA.import_key(userKeys['publicKey'])\n",
    "# key = RSA.import_key(open('receiver.pem').read())\n",
    "print(\"The hash \", hash.hexdigest())\n",
    "try:\n",
    "    verifySignature(pubKey, hash, signature)\n",
    "    print(\"The signature is valid.\")\n",
    "except (ValueError, TypeError):\n",
    "   print(\"The signature is not valid.\")\n",
    "   \n"
   ]
  },
  {
   "cell_type": "code",
   "execution_count": null,
   "metadata": {},
   "outputs": [],
   "source": []
  }
 ],
 "metadata": {
  "kernelspec": {
   "display_name": "Python 3.10.5 64-bit",
   "language": "python",
   "name": "python3"
  },
  "language_info": {
   "name": "python",
   "version": "3.10.5"
  },
  "orig_nbformat": 4,
  "vscode": {
   "interpreter": {
    "hash": "aee8b7b246df8f9039afb4144a1f6fd8d2ca17a180786b69acc140d282b71a49"
   }
  }
 },
 "nbformat": 4,
 "nbformat_minor": 2
}
